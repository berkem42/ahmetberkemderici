{
 "cells": [
  {
   "cell_type": "code",
   "execution_count": 5,
   "metadata": {},
   "outputs": [
    {
     "name": "stdout",
     "output_type": "stream",
     "text": [
      "Sayılardan birini giriniz 1,2,3: 1.5\n",
      "Hata!!! Bu sayılardan birisini girerek tekrar deneyiniz 1,2,3\n"
     ]
    }
   ],
   "source": [
    "x=float(input(\"Sayılardan birini giriniz 1,2,3: \"))\n",
    "if x==1:\n",
    "    print(\"Üçgenin hipotenüsü hesaplanacaktır\")\n",
    "    y=float(input(\"İlk kenarı giriniz: \"))\n",
    "    z=float(input(\"İkinci kenarı giriniz:  \"))\n",
    "    hypotenuse=(y**2+z**2)**0.5\n",
    "    print(\"hypotenuse:\",hypotenuse)\n",
    "elif x==2:\n",
    "    x=float(input(\"Bir rakam giriniz: \"))\n",
    "    i=1\n",
    "    while(i<=x):\n",
    "        print(i)\n",
    "        i=i+1\n",
    "elif x==3:\n",
    "    Sayı1 = float(input(\"Sayı 1 i giriniz: \"))\n",
    "    Sayı2 = float(input(\"Sayı 2 yi giriniz: \"))\n",
    "    Sayı3 = float(input(\"Sayı 3 ü giriniz: \"))\n",
    "    Sayı4 = float(input(\"Sayı 4 ü giriniz: \"))\n",
    "    Sayı5 = float(input(\"Sayı 5 i giriniz: \"))\n",
    "    Sayı6 = float(input(\"Sayı 6 yı giriniz: \"))\n",
    "    Sayıların_ortalaması = (Sayı1+Sayı2+Sayı3+Sayı4+Sayı5+Sayı6)/6\n",
    "    print(Sayıların_ortalaması)\n",
    "else:\n",
    "    print(\"Hata!!! Bu sayılardan birisini girerek tekrar deneyiniz 1,2,3\")"
   ]
  },
  {
   "cell_type": "code",
   "execution_count": null,
   "metadata": {},
   "outputs": [],
   "source": []
  },
  {
   "cell_type": "code",
   "execution_count": null,
   "metadata": {},
   "outputs": [],
   "source": []
  }
 ],
 "metadata": {
  "kernelspec": {
   "display_name": "Python 3",
   "language": "python",
   "name": "python3"
  },
  "language_info": {
   "codemirror_mode": {
    "name": "ipython",
    "version": 3
   },
   "file_extension": ".py",
   "mimetype": "text/x-python",
   "name": "python",
   "nbconvert_exporter": "python",
   "pygments_lexer": "ipython3",
   "version": "3.7.0"
  }
 },
 "nbformat": 4,
 "nbformat_minor": 2
}
