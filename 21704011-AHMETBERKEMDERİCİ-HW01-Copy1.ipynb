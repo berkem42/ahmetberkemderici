{
 "cells": [
  {
   "cell_type": "code",
   "execution_count": 7,
   "metadata": {},
   "outputs": [
    {
     "name": "stdout",
     "output_type": "stream",
     "text": [
      "x kare kat sayısını giriniz:2\n",
      "x'in kat sayısını giriniz:5\n",
      "sabit temin sayısını giriniz:2\n",
      "discriminant: 9\n",
      "x1 değeri: -0.5\n",
      "x2 değeri: -2.0\n"
     ]
    }
   ],
   "source": [
    "value1=int(input(\"x kare kat sayısını giriniz:\"))\n",
    "value2=int(input(\"x'in kat sayısını giriniz:\"))\n",
    "value3=int(input(\"sabit temin sayısını giriniz:\"))\n",
    "discriminant= ((value2**2) - 4*value1*value3)\n",
    "x1= ((-value2+discriminant**0.5)/(2*value1))\n",
    "x2= ((-value2-discriminant**0.5)/(2*value1))\n",
    "print(\"discriminant:\",discriminant)\n",
    "print(\"x1 değeri:\",x1)\n",
    "print(\"x2 değeri:\",x2)"
   ]
  },
  {
   "cell_type": "code",
   "execution_count": null,
   "metadata": {},
   "outputs": [],
   "source": []
  }
 ],
 "metadata": {
  "kernelspec": {
   "display_name": "Python 3",
   "language": "python",
   "name": "python3"
  },
  "language_info": {
   "codemirror_mode": {
    "name": "ipython",
    "version": 3
   },
   "file_extension": ".py",
   "mimetype": "text/x-python",
   "name": "python",
   "nbconvert_exporter": "python",
   "pygments_lexer": "ipython3",
   "version": "3.7.0"
  }
 },
 "nbformat": 4,
 "nbformat_minor": 2
}
